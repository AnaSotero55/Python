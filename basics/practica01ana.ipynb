{
 "cells": [
  {
   "cell_type": "markdown",
   "metadata": {},
   "source": [
    "# Cabecera"
   ]
  },
  {
   "cell_type": "code",
   "execution_count": 1,
   "metadata": {},
   "outputs": [],
   "source": [
    "# -*- coding: utf-8 -*-\n",
    "\n",
    "# ------------- Cantidad de segundos que has vivido -------------"
   ]
  },
  {
   "cell_type": "markdown",
   "metadata": {},
   "source": [
    "# Definición de variables"
   ]
  },
  {
   "cell_type": "code",
   "execution_count": 2,
   "metadata": {},
   "outputs": [],
   "source": [
    "anios = 30\n",
    "dias_por_anio = 365\n",
    "horas_por_dia = 24\n",
    "segundos_por_hora = 60"
   ]
  },
  {
   "cell_type": "markdown",
   "metadata": {},
   "source": [
    "# Operación"
   ]
  },
  {
   "cell_type": "code",
   "execution_count": 3,
   "metadata": {},
   "outputs": [
    {
     "name": "stdout",
     "output_type": "stream",
     "text": [
      "15768000\n"
     ]
    }
   ],
   "source": [
    "print (anios * dias_por_anio * horas_por_dia * segundos_por_hora)"
   ]
  },
  {
   "cell_type": "markdown",
   "metadata": {},
   "source": [
    "# Cadenas"
   ]
  },
  {
   "cell_type": "code",
   "execution_count": 4,
   "metadata": {},
   "outputs": [
    {
     "name": "stdout",
     "output_type": "stream",
     "text": [
      "Curso\n",
      " de Python\n",
      "\n",
      "Hola Marco! \n",
      "\n",
      "Marco tiene 2 tortugas\n"
     ]
    }
   ],
   "source": [
    "# -*- coding: utf-8 -*-\n",
    "\n",
    "# --------------- Uso de cadenas ---------------\n",
    "\n",
    "# Cuando se imprime una palabra sin comillas Python\n",
    "# la interpreta como una variable, si ésta no existe\n",
    "# se arroja un error en tiempo de ejecución\n",
    "#print (Hola)\n",
    "\n",
    "# Las cadenas se pueden crear con comillas simples\n",
    "# o con comillas dobles\n",
    "print ('Curso')\n",
    "print (\" de Python\\n\")\n",
    "\n",
    "# --------------- Cadenas y números ---------------\n",
    "nombre = \"Marco\"\n",
    "print (\"Hola \" + nombre + \"! \\n\")\n",
    "\n",
    "num_tortugas = 2\n",
    "\n",
    "# Los números se deben convertir a cadenas o\n",
    "# se arrojará un error\n",
    "#print (nombre + \" tiene \" + num_tortugas + \" tortugas \\n\")\n",
    "\n",
    "# Los números se convierten a cadena a través\n",
    "# de la función str()\n",
    "print (nombre + \" tiene \" + str(num_tortugas) + \" tortugas\")\n"
   ]
  },
  {
   "cell_type": "markdown",
   "metadata": {},
   "source": [
    "# Subcadenas"
   ]
  },
  {
   "cell_type": "code",
   "execution_count": 6,
   "metadata": {},
   "outputs": [],
   "source": [
    "# -*- coding: utf-8 -*-\n",
    "\n",
    "# ------------- Cadenas y subcadenas -------------\n",
    "\n",
    "# Cadena con 22 caracteres\n",
    "cadena = \"parangaricutirimicuaro\""
   ]
  },
  {
   "cell_type": "code",
   "execution_count": 7,
   "metadata": {},
   "outputs": [
    {
     "name": "stdout",
     "output_type": "stream",
     "text": [
      "p\n",
      "o\n"
     ]
    }
   ],
   "source": [
    "print (cadena[0])    # Se obtiene el primer carácter\n",
    "print (cadena[21])   # Se obtiene el último carácter"
   ]
  },
  {
   "cell_type": "code",
   "execution_count": 8,
   "metadata": {},
   "outputs": [
    {
     "name": "stdout",
     "output_type": "stream",
     "text": [
      "r\n"
     ]
    }
   ],
   "source": [
    "# Si se pone un indice negativo, la cuenta\n",
    "# empieza en el �ltimo elemento de la cadena\n",
    "print (cadena[-2])   # último carácter"
   ]
  },
  {
   "cell_type": "code",
   "execution_count": 9,
   "metadata": {},
   "outputs": [
    {
     "name": "stdout",
     "output_type": "stream",
     "text": [
      "garicuti\n"
     ]
    }
   ],
   "source": [
    "# Si se quiere acceder a un elemento fuera de rango\n",
    "# de la cadena, se obtiene el error\n",
    "# IndexError: string index out of range\n",
    "#print (cadena[22])   # Carácter fuera de rango\n",
    "\n",
    "print (cadena[5:13])  # imprime garicuti"
   ]
  },
  {
   "cell_type": "code",
   "execution_count": 10,
   "metadata": {},
   "outputs": [
    {
     "name": "stdout",
     "output_type": "stream",
     "text": [
      "garicutirimicuaro\n"
     ]
    }
   ],
   "source": [
    "print (cadena[5:])    # imprime garicutirimicuaro"
   ]
  },
  {
   "cell_type": "code",
   "execution_count": 11,
   "metadata": {},
   "outputs": [
    {
     "name": "stdout",
     "output_type": "stream",
     "text": [
      "paran\n"
     ]
    }
   ],
   "source": [
    "print (cadena[:5])    # imprime param"
   ]
  },
  {
   "cell_type": "code",
   "execution_count": 12,
   "metadata": {},
   "outputs": [
    {
     "name": "stdout",
     "output_type": "stream",
     "text": [
      "parangaricutirimicuaro\n"
     ]
    }
   ],
   "source": [
    "print (cadena[:])     # imprime la cadena completa"
   ]
  },
  {
   "cell_type": "markdown",
   "metadata": {},
   "source": [
    "# Búsquedas"
   ]
  },
  {
   "cell_type": "code",
   "execution_count": 13,
   "metadata": {},
   "outputs": [
    {
     "name": "stdout",
     "output_type": "stream",
     "text": [
      "61\n"
     ]
    }
   ],
   "source": [
    "# -*- coding: utf-8 -*-\n",
    "\n",
    "# ------------- Búsquedas en cadenas -------------\n",
    "\n",
    "# Cadena original\n",
    "cadena = \"Amor y deseo son dos cosas diferentes; que no todo lo que se ama se desea, ni todo lo que se desea se ama. (Don Quijote)\"\n",
    "\n",
    "# Busca la cadena \"ama\"\n",
    "print (cadena.find(\"ama\"))"
   ]
  },
  {
   "cell_type": "code",
   "execution_count": 14,
   "metadata": {},
   "outputs": [
    {
     "name": "stdout",
     "output_type": "stream",
     "text": [
      "ama se desea, ni todo lo que se desea se ama. (Don Quijote)\n"
     ]
    }
   ],
   "source": [
    "#Imprimie  la subcadena\n",
    "print (cadena[cadena.find(\"ama\"):])"
   ]
  },
  {
   "cell_type": "code",
   "execution_count": 15,
   "metadata": {},
   "outputs": [
    {
     "name": "stdout",
     "output_type": "stream",
     "text": [
      "40\n"
     ]
    }
   ],
   "source": [
    "# Busca la siguiente coincidencia de \"ama\" SEGUNDA coincidencia\n",
    "print (cadena[cadena.find(\"ama\") + 1:].find(\"ama\"))"
   ]
  },
  {
   "cell_type": "code",
   "execution_count": 16,
   "metadata": {},
   "outputs": [
    {
     "name": "stdout",
     "output_type": "stream",
     "text": [
      "ama. (Don Quijote)\n"
     ]
    }
   ],
   "source": [
    "# Imprime la cadena a partir de la segunda coincidencia\n",
    "print (cadena[61 + 1 + 40:])"
   ]
  },
  {
   "cell_type": "code",
   "execution_count": 17,
   "metadata": {},
   "outputs": [
    {
     "name": "stdout",
     "output_type": "stream",
     "text": [
      "-1\n"
     ]
    }
   ],
   "source": [
    "# Busca \"corazon\" en la cadena\n",
    "print (cadena.find(\"corazon\"))"
   ]
  },
  {
   "cell_type": "code",
   "execution_count": 18,
   "metadata": {},
   "outputs": [
    {
     "name": "stdout",
     "output_type": "stream",
     "text": [
      "78\n"
     ]
    }
   ],
   "source": [
    "# Busca a partir de un indice\n",
    "print (cadena.find(\"todo\", 62))"
   ]
  },
  {
   "cell_type": "code",
   "execution_count": 19,
   "metadata": {},
   "outputs": [
    {
     "name": "stdout",
     "output_type": "stream",
     "text": [
      "todo lo que se desea se ama. (Don Quijote)\n"
     ]
    }
   ],
   "source": [
    "# Imprime a partir de un �ndice y hasta el final\n",
    "print (cadena[78:])"
   ]
  },
  {
   "cell_type": "code",
   "execution_count": null,
   "metadata": {},
   "outputs": [],
   "source": []
  }
 ],
 "metadata": {
  "kernelspec": {
   "display_name": "Python 3",
   "language": "python",
   "name": "python3"
  },
  "language_info": {
   "codemirror_mode": {
    "name": "ipython",
    "version": 3
   },
   "file_extension": ".py",
   "mimetype": "text/x-python",
   "name": "python",
   "nbconvert_exporter": "python",
   "pygments_lexer": "ipython3",
   "version": "3.7.3"
  }
 },
 "nbformat": 4,
 "nbformat_minor": 2
}
