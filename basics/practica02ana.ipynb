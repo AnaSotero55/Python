{
 "cells": [
  {
   "cell_type": "code",
   "execution_count": 1,
   "metadata": {},
   "outputs": [],
   "source": [
    "# -*- coding: utf-8 -*-\n",
    "\n",
    "#Cadena para buscar\n",
    "cadena = \"Amor y deseo son dos cosas diferentes, \"\n",
    "cadena = cadena + \"que no todo lo que se ama se desea, \"\n",
    "cadena = cadena + \"ni todo lo que se desea se ama. (Don Quijote)\""
   ]
  },
  {
   "cell_type": "code",
   "execution_count": 2,
   "metadata": {},
   "outputs": [
    {
     "name": "stdout",
     "output_type": "stream",
     "text": [
      "AMOR Y DESEO SON DOS COSAS DIFERENTES, QUE NO TODO LO QUE SE AMA SE DESEA, NI TODO LO QUE SE DESEA SE AMA. (DON QUIJOTE)\n"
     ]
    }
   ],
   "source": [
    "#Cambia todos los caracteres de la cadena a mayúsculas\n",
    "cadena = cadena.upper()\n",
    "print (cadena)"
   ]
  },
  {
   "cell_type": "code",
   "execution_count": 3,
   "metadata": {},
   "outputs": [
    {
     "name": "stdout",
     "output_type": "stream",
     "text": [
      "AMOR Y DESEO SON DOS COSAS DIFERENTES, QUE NO TODO LO QUE SE AMA SE DESEA, NI TODO LO QUE SE DESEA SE AMA. (DON QUIJOTE)\n",
      "amor y deseo son dos cosas diferentes, que no todo lo que se ama se desea, ni todo lo que se desea se ama. (don quijote)\n",
      "AMOR Y DESEO SON DOS COSAS DIFERENTES, QUE NO TODO LO QUE SE AMA SE DESEA, NI TODO LO QUE SE DESEA SE AMA. (DON QUIJOTE)\n"
     ]
    }
   ],
   "source": [
    "print (cadena)\n",
    "#Cambia todos los caracteres de la cadena a minúsculas\n",
    "print (cadena.lower())\n",
    "print (cadena)"
   ]
  },
  {
   "cell_type": "code",
   "execution_count": 4,
   "metadata": {},
   "outputs": [
    {
     "name": "stdout",
     "output_type": "stream",
     "text": [
      "['AMOR Y DESEO SON DOS COSAS DIFERENTES, QUE NO ', ' LO QUE SE AMA SE DESEA, NI ', ' LO QUE SE DESEA SE AMA. (DON QUIJOTE)']\n"
     ]
    }
   ],
   "source": [
    "#Descomponiendo la cadena\n",
    "print (cadena.split('TODO'))"
   ]
  },
  {
   "cell_type": "code",
   "execution_count": 5,
   "metadata": {},
   "outputs": [
    {
     "name": "stdout",
     "output_type": "stream",
     "text": [
      "AMOR Y DESEO SON DOS COSAS DIFERENTES, QUE NO TODO LO QUE SE COME SE DESEA, NI TODO LO QUE SE DESEA SE COME. (DON QUIJOTE)\n"
     ]
    }
   ],
   "source": [
    "#Reemplaza cadenas\n",
    "print (cadena.replace(\"AMA\", \"COME\"))"
   ]
  },
  {
   "cell_type": "code",
   "execution_count": 6,
   "metadata": {},
   "outputs": [
    {
     "name": "stdout",
     "output_type": "stream",
     "text": [
      "Amor y deseo son dos cosas diferentes, que no todo lo que se ama se desea, ni todo lo que se desea se ama. (don quijote)\n"
     ]
    }
   ],
   "source": [
    "#Imprime primer caracter en mayuscula\n",
    "print (cadena.capitalize())\n"
   ]
  },
  {
   "cell_type": "markdown",
   "metadata": {},
   "source": [
    "# FUNCIONES"
   ]
  },
  {
   "cell_type": "code",
   "execution_count": 7,
   "metadata": {},
   "outputs": [],
   "source": [
    "# -*- coding: utf-8 -*-\n",
    "# ------------- Definición de funciones -------------\n",
    "\n",
    "\n",
    "def imprimeNombre(cadNombre):\n",
    "    print (cadNombre)\n",
    "    return cadNombre[0], cadNombre[-1]\n",
    "\n",
    "\n",
    "def quienEs(cadNombre):\n",
    "    print (cadNombre + \" mejor conocido como el Childis Gambino.\\n\")"
   ]
  },
  {
   "cell_type": "code",
   "execution_count": 8,
   "metadata": {},
   "outputs": [
    {
     "name": "stdout",
     "output_type": "stream",
     "text": [
      "Donal Glover\n",
      "D\n",
      "r\n"
     ]
    }
   ],
   "source": [
    "# ------------- Llamada a funciones -------------\n",
    "cadena = \"Donal Glover\"\n",
    "[x, y] = imprimeNombre(cadena)\n",
    "\n",
    "# Se imprimen los valores que regresa la función imprimeNombre\n",
    "print (x)\n",
    "print (y)"
   ]
  },
  {
   "cell_type": "code",
   "execution_count": 9,
   "metadata": {},
   "outputs": [
    {
     "name": "stdout",
     "output_type": "stream",
     "text": [
      "Donal Glover mejor conocido como el Childis Gambino.\n",
      "\n"
     ]
    }
   ],
   "source": [
    "quienEs(cadena)"
   ]
  },
  {
   "cell_type": "code",
   "execution_count": 10,
   "metadata": {},
   "outputs": [
    {
     "name": "stdout",
     "output_type": "stream",
     "text": [
      "102\n"
     ]
    }
   ],
   "source": [
    "def segunda_coincidencia(cadUno, cadDos):\n",
    "    first = cadUno.find(cadDos)\n",
    "    return cadUno.find(cadDos, first + 1)\n",
    "\n",
    "s1 = \"Amor y deseo son dos cosas diferentes; que no todo lo que se ama se desea, ni todo lo que se desea se ama. (Don Quijote)\"\n",
    "s2 = \"ama\"\n",
    "\n",
    "print (segunda_coincidencia(s1, s2))"
   ]
  },
  {
   "cell_type": "markdown",
   "metadata": {},
   "source": [
    "# COMPARACIONES"
   ]
  },
  {
   "cell_type": "code",
   "execution_count": 11,
   "metadata": {},
   "outputs": [
    {
     "name": "stdout",
     "output_type": "stream",
     "text": [
      "False\n",
      "True\n",
      "True\n",
      "False\n",
      "True\n"
     ]
    }
   ],
   "source": [
    "# -*- coding: utf-8 -*-\n",
    "\n",
    "# ------------- Comparaciones -------------\n",
    "\n",
    "print (7 < 5)  # Falso\n",
    "print (7 > 5)  # Verdadero\n",
    "print ((11 * 3) + 2 == 36 - 1)  # Verdadero # == igualdad\n",
    "print ((11 * 3) + 2 >= 36)      # Falso\n",
    "print (\"curso\" != \"CuRsO\")    # Verdadero"
   ]
  },
  {
   "cell_type": "code",
   "execution_count": 12,
   "metadata": {},
   "outputs": [
    {
     "name": "stdout",
     "output_type": "stream",
     "text": [
      "4\n",
      "5\n",
      "False\n"
     ]
    }
   ],
   "source": [
    "#Operacion en binario \n",
    "print (5 and 4) \n",
    "print (5 or 4)\n",
    "print (not(4 > 3))"
   ]
  },
  {
   "cell_type": "code",
   "execution_count": 13,
   "metadata": {},
   "outputs": [
    {
     "name": "stdout",
     "output_type": "stream",
     "text": [
      "True\n",
      "False\n"
     ]
    }
   ],
   "source": [
    "print (True)\n",
    "print (False)"
   ]
  },
  {
   "cell_type": "code",
   "execution_count": 14,
   "metadata": {},
   "outputs": [
    {
     "name": "stdout",
     "output_type": "stream",
     "text": [
      "0\n",
      "5\n",
      "10\n",
      "15\n"
     ]
    }
   ],
   "source": [
    "# -*- coding: utf-8 -*-\n",
    "\n",
    "cont = 0\n",
    "\n",
    "\n",
    "def incrementar():\n",
    "    global cont #es declaracion de variable global\n",
    "    print (cont) #5\n",
    "    cont += 5 #10\n",
    "    \n",
    "incrementar() #0 cont=5\n",
    "incrementar() #5 cont=10\n",
    "incrementar() #10 cont=15\n",
    "print (cont) #10"
   ]
  },
  {
   "cell_type": "markdown",
   "metadata": {},
   "source": [
    "# IF"
   ]
  },
  {
   "cell_type": "code",
   "execution_count": 15,
   "metadata": {},
   "outputs": [
    {
     "name": "stdout",
     "output_type": "stream",
     "text": [
      "Hola\n",
      "el número es 1\n",
      "Opción inválida\n"
     ]
    }
   ],
   "source": [
    "# -*- coding: utf-8 -*-\n",
    "# ------------- Estructura de selección if-else -------------\n",
    "\n",
    "# if-elif-else\n",
    "def numeros(entNum):\n",
    "    if entNum == 1:\n",
    "        print (\"el número es 1\") #Es importante los tabuladores equivalentes al \";\" o \"{}\" en C\n",
    "    elif entNum == 2:\n",
    "        print (\"el número es 2\")\n",
    "    elif entNum == 3:\n",
    "        print (\"el número es 3\")\n",
    "    elif entNum == 4:\n",
    "        print (\"el número es 4\")\n",
    "    else:\n",
    "        print (\"Opción inválida\")\n",
    "        \n",
    "print (\"Hola\") #Hola ya no pertence al if-else\n",
    "\n",
    "\n",
    "numeros(1)\n",
    "numeros(5)"
   ]
  },
  {
   "cell_type": "code",
   "execution_count": null,
   "metadata": {},
   "outputs": [],
   "source": []
  }
 ],
 "metadata": {
  "kernelspec": {
   "display_name": "Python 3",
   "language": "python",
   "name": "python3"
  },
  "language_info": {
   "codemirror_mode": {
    "name": "ipython",
    "version": 3
   },
   "file_extension": ".py",
   "mimetype": "text/x-python",
   "name": "python",
   "nbconvert_exporter": "python",
   "pygments_lexer": "ipython3",
   "version": "3.7.3"
  }
 },
 "nbformat": 4,
 "nbformat_minor": 2
}
