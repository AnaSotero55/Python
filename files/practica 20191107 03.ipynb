{
 "cells": [
  {
   "cell_type": "markdown",
   "metadata": {},
   "source": [
    "# Open"
   ]
  },
  {
   "cell_type": "code",
   "execution_count": 1,
   "metadata": {},
   "outputs": [
    {
     "name": "stdout",
     "output_type": "stream",
     "text": [
      "<_io.TextIOWrapper name='../archivo2.txt' mode='r' encoding='cp1252'>\n"
     ]
    }
   ],
   "source": [
    "# -*- coding: utf-8 -*-\n",
    "\n",
    "############## Manejo de archivos ##############\n",
    "\n",
    "# Leer archivo completo\n",
    "f = open(\"../archivo2.txt\", \"r\") # poner antes \".../\" para hacer ruta y creara el archivo una carpeta antes\n",
    "print(f)\n"
   ]
  },
  {
   "cell_type": "markdown",
   "metadata": {},
   "source": [
    "# try-catch"
   ]
  },
  {
   "cell_type": "code",
   "execution_count": 5,
   "metadata": {},
   "outputs": [
    {
     "name": "stdout",
     "output_type": "stream",
     "text": [
      "Abre archivo uno.txt\n",
      "Lee número\n",
      "Convierte número a entero\n",
      "Promedio 10.1\n",
      "Finally.\n",
      "Continúa la ejecución del programa fuera del bloque try-catch.\n"
     ]
    }
   ],
   "source": [
    "# -*- coding: utf-8 -*-\n",
    "import sys\n",
    "\n",
    "############## Manejo de excepciones ##############\n",
    "try:\n",
    "    file_name = \"uno.txt\"\n",
    "    fout = open('uno.txt','r')\n",
    "    print (\"Abre archivo\", file_name)\n",
    "    val = fout.readline()\n",
    "    print(\"Lee número\")\n",
    "    x = int(val)\n",
    "    print (\"Convierte número a entero\")\n",
    "    print (\"Promedio \" + str(101. / x))\n",
    "    fout.close()\n",
    "except IOError:\n",
    "    print (\"Error E/S\")\n",
    "except ValueError:\n",
    "    print (\"No pude convertir el dato a un entero.\")\n",
    "except:\n",
    "    print (\"Error inesperado:\", sys.exc_info()[0])\n",
    "finally:\n",
    "    print (\"Finally.\")\n",
    "    \n",
    "print (\"Continúa la ejecución del programa fuera del bloque try-catch.\")\n"
   ]
  },
  {
   "cell_type": "markdown",
   "metadata": {},
   "source": []
  },
  {
   "cell_type": "code",
   "execution_count": null,
   "metadata": {},
   "outputs": [],
   "source": [
    "\n"
   ]
  }
 ],
 "metadata": {
  "kernelspec": {
   "display_name": "Python 3",
   "language": "python",
   "name": "python3"
  },
  "language_info": {
   "codemirror_mode": {
    "name": "ipython",
    "version": 3
   },
   "file_extension": ".py",
   "mimetype": "text/x-python",
   "name": "python",
   "nbconvert_exporter": "python",
   "pygments_lexer": "ipython3",
   "version": "3.7.3"
  }
 },
 "nbformat": 4,
 "nbformat_minor": 2
}
