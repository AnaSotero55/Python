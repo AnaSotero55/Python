{
 "cells": [
  {
   "cell_type": "markdown",
   "metadata": {},
   "source": [
    "   # Lectura Datos"
   ]
  },
  {
   "cell_type": "code",
   "execution_count": null,
   "metadata": {},
   "outputs": [
    {
     "name": "stdout",
     "output_type": "stream",
     "text": [
      "Hola, como te llamas?\n"
     ]
    }
   ],
   "source": [
    "# -*- coding: utf-8 -*-\n",
    "\n",
    "print (\"Hola, como te llamas?\")\n",
    "nombre = input(' ')\n",
    "print (\"Buen día \" + nombre)"
   ]
  },
  {
   "cell_type": "code",
   "execution_count": null,
   "metadata": {},
   "outputs": [],
   "source": [
    "running = True #\n",
    "while running:\n",
    "    valor_1 = 0\n",
    "    valor_2 = 0\n",
    "    print (\"---Calculadora---\")\n",
    "    print (\"1- Sumar\")\n",
    "    print (\"2- Multiplicar\")\n",
    "    print (\"3- Dividir\")\n",
    "    print (\"4- Restar\")\n",
    "    print (\"5- Salir\")\n",
    "    op = int(input('Opcion: '))\n",
    "    if op == 1:\n",
    "        print (\"---Sumar---\")\n",
    "        valor_1 = float(input(''))\n",
    "        print (\" + \")\n",
    "        valor_2 = float(input(''))\n",
    "        suma = valor_1 + valor_2\n",
    "        print (\"El resultado es: %d\" % suma)\n",
    "    elif op == 2:\n",
    "        print (\"---Multiplicar---\")\n",
    "        valor_1 = float(input(''))\n",
    "        print (\" x \")\n",
    "        valor_2 = float(input(''))\n",
    "        multiplicacion = valor_1 * valor_2\n",
    "        print (\"El resultado es: %d\" % multiplicacion)\n",
    "    elif op == 3:\n",
    "        print (\"---Dividir---\")\n",
    "        valor_1 = float(input(''))\n",
    "        print (\" / \")\n",
    "        valor_2 = float(input(''))\n",
    "        if valor_2 !=    0:\n",
    "            division = valor_1 / valor_2\n",
    "            print (\"El resultado es: %d\" % division)\n",
    "        else:\n",
    "            print (\"No se puede dividir entre 0\")\n",
    "    elif op == 4:\n",
    "        print (\"---Restar---\")\n",
    "        valor_1 = float(input(''))\n",
    "        print (\" - \")\n",
    "        valor_2 = float(input(''))\n",
    "        resta = valor_1 - valor_2\n",
    "        print (\"El resultado es: %d\" % resta)  \n",
    "    else:\n",
    "        running = False"
   ]
  },
  {
   "cell_type": "code",
   "execution_count": null,
   "metadata": {},
   "outputs": [],
   "source": []
  },
  {
   "cell_type": "code",
   "execution_count": null,
   "metadata": {},
   "outputs": [],
   "source": []
  }
 ],
 "metadata": {
  "kernelspec": {
   "display_name": "Python 3",
   "language": "python",
   "name": "python3"
  },
  "language_info": {
   "codemirror_mode": {
    "name": "ipython",
    "version": 3
   },
   "file_extension": ".py",
   "mimetype": "text/x-python",
   "name": "python",
   "nbconvert_exporter": "python",
   "pygments_lexer": "ipython3",
   "version": "3.7.3"
  }
 },
 "nbformat": 4,
 "nbformat_minor": 2
}
